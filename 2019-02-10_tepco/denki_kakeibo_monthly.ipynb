{
 "cells": [
  {
   "cell_type": "code",
   "execution_count": 1,
   "metadata": {
    "collapsed": true
   },
   "outputs": [],
   "source": [
    "import configparser\n",
    "import json\n",
    "import requests\n",
    "from bs4 import BeautifulSoup"
   ]
  },
  {
   "cell_type": "code",
   "execution_count": 2,
   "metadata": {
    "collapsed": true,
    "scrolled": false
   },
   "outputs": [],
   "source": [
    "config = configparser.ConfigParser()\n",
    "config.read('.password', 'UTF-8')\n",
    " \n",
    "username = config.get(\"settings\", 'username')\n",
    "password = config.get(\"settings\", 'password')"
   ]
  },
  {
   "cell_type": "code",
   "execution_count": 3,
   "metadata": {
    "collapsed": true
   },
   "outputs": [],
   "source": [
    "session = requests.Session()\n",
    "\n",
    "# くらしtepcoからでんき家計簿にログイン\n",
    "param = {\n",
    "        'ACCOUNTUID': username,\n",
    "        'PASSWORD': password,\n",
    "        'HIDEURL': '/ls/pf/ja/pco/mypage/redirect-sso.page?sitekbn=kakeibo',\n",
    "        'LOGIN': 'EUAS_LOGIN',\n",
    "        }\n",
    "\n",
    "header = {\n",
    "        'Referer': 'https://www.kakeibo.tepco.co.jp/dk/com/menu/'\n",
    "        }\n",
    "\n",
    "login = session.post(\n",
    "        'https://www.kurashi.tepco.co.jp/kpf-login', data=param, headers=header)\n",
    "login.encoding = login.apparent_encoding"
   ]
  },
  {
   "cell_type": "code",
   "execution_count": 4,
   "metadata": {},
   "outputs": [
    {
     "name": "stdout",
     "output_type": "stream",
     "text": [
      "***my officeCd***\n",
      "***my visitNum***\n",
      "amount\n",
      "/dk/com/menu/goElectricUsageAmount\n"
     ]
    }
   ],
   "source": [
    "# 月ごとデータへの移動リンクで発火するjs関数から、必要な情報を抜き出す\n",
    "html = BeautifulSoup(login.text, \"html.parser\")\n",
    "link_js = html.find(id=\"frame3\").find(class_=\"box01 box firstBox\").find(\"a\")[\"onclick\"]\n",
    "#print(link_js)\n",
    "key_officeCd = link_js.split(\"'\")[3]\n",
    "key_visitNum = link_js.split(\"'\")[5]\n",
    "key_display = link_js.split(\"'\")[7]\n",
    "post_to = link_js.split(\"'\")[17]\n",
    "\n",
    "#print(key_officeCd)\n",
    "print(\"***my officeCd***\")\n",
    "#print(key_visitNum)\n",
    "print(\"***my visitNum***\")\n",
    "print(key_display)\n",
    "print(post_to)"
   ]
  },
  {
   "cell_type": "code",
   "execution_count": 5,
   "metadata": {},
   "outputs": [],
   "source": [
    "# 月ごとデータの表示ページ に移動\n",
    "param = {\n",
    "        'key.officeCd': key_officeCd,\n",
    "        'key.visitNum': key_visitNum,\n",
    "        'key.display': key_display\n",
    "}\n",
    "\n",
    "header = {\n",
    "        'Referer':login.url\n",
    "        }\n",
    "\n",
    "data_page = session.post(\n",
    "        'https://www.kakeibo.tepco.co.jp'+post_to, data=param, headers=header)\n",
    "data_page.encoding = data_page.apparent_encoding"
   ]
  },
  {
   "cell_type": "code",
   "execution_count": 6,
   "metadata": {
    "collapsed": true
   },
   "outputs": [],
   "source": [
    "def getCDATA(text):\n",
    "    ret = \"\"\n",
    "    isInCDATAArea = False\n",
    "    for l in text.split(\"\\n\"):\n",
    "        l = l.strip()\n",
    "        if (l == \"// <![CDATA[\"):\n",
    "            isInCDATAArea = True\n",
    "        elif (l.strip() == \"// ]]>\"):\n",
    "            isInCDATAArea = False\n",
    "        \n",
    "        if(isInCDATAArea):\n",
    "            ret += l + \"\\n\"\n",
    "        \n",
    "    return ret\n",
    "\n",
    "#print(getCDATA(data_page.text))"
   ]
  },
  {
   "cell_type": "code",
   "execution_count": 7,
   "metadata": {},
   "outputs": [],
   "source": [
    "d = {}\n",
    "function = \"\"\n",
    "for l in getCDATA(data_page.text).split(\"\\n\"):\n",
    "    \n",
    "    if(l.startswith(\"function\")):\n",
    "        function = l.split(\"function\")[1].split(\"()\")[0].strip()\n",
    "        if(function.startswith(\"vbar\")):\n",
    "            d[function] = {}\n",
    "        \n",
    "    if(function.startswith(\"vbar\")):\n",
    "        if(l.startswith(\"var items = \")):\n",
    "            d[function][\"items\"] = l.split(\"=\")[-1]\n",
    "\n",
    "        if(l.startswith(\"x:\")):\n",
    "            d[function][\"x\"] = json.loads(l.split(\":\")[-1])\n",
    "        \n",
    "        if(l.startswith(\",y:\")):\n",
    "            d[function][\"y\"] = json.loads(l.split(\":\")[-1])"
   ]
  },
  {
   "cell_type": "code",
   "execution_count": null,
   "metadata": {
    "collapsed": true
   },
   "outputs": [],
   "source": [
    "for f in d:\n",
    "    print(f)\n",
    "    for k in d[f]:\n",
    "        print(\"\\t\", k, \"\\t\", d[f][k])"
   ]
  },
  {
   "cell_type": "code",
   "execution_count": 8,
   "metadata": {},
   "outputs": [],
   "source": [
    "with open(\"monthly.json\", \"w\") as f:\n",
    "    f.write(json.dumps(d))"
   ]
  },
  {
   "cell_type": "code",
   "execution_count": null,
   "metadata": {
    "collapsed": true
   },
   "outputs": [],
   "source": []
  }
 ],
 "metadata": {
  "kernelspec": {
   "display_name": "Python 3",
   "language": "python",
   "name": "python3"
  },
  "language_info": {
   "codemirror_mode": {
    "name": "ipython",
    "version": 3
   },
   "file_extension": ".py",
   "mimetype": "text/x-python",
   "name": "python",
   "nbconvert_exporter": "python",
   "pygments_lexer": "ipython3",
   "version": "3.6.3"
  }
 },
 "nbformat": 4,
 "nbformat_minor": 2
}
