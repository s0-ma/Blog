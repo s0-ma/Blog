{
 "cells": [
  {
   "cell_type": "code",
   "execution_count": 1,
   "metadata": {
    "collapsed": true
   },
   "outputs": [],
   "source": [
    "import configparser\n",
    "import requests\n",
    "from bs4 import BeautifulSoup"
   ]
  },
  {
   "cell_type": "code",
   "execution_count": 2,
   "metadata": {
    "collapsed": true,
    "scrolled": false
   },
   "outputs": [],
   "source": [
    "config = configparser.ConfigParser()\n",
    "config.read('.password', 'UTF-8')\n",
    " \n",
    "username = config.get(\"settings\", 'username')\n",
    "password = config.get(\"settings\", 'password')"
   ]
  },
  {
   "cell_type": "code",
   "execution_count": 3,
   "metadata": {
    "collapsed": true
   },
   "outputs": [],
   "source": [
    "session = requests.Session()\n",
    "\n",
    "# くらしtepcoにログイン\n",
    "param = {\n",
    "        'ACCOUNTUID': username,\n",
    "        'PASSWORD': password,\n",
    "        'HIDEURL': '/pf/ja/pc/mypage/home/index.page?',\n",
    "        'LOGIN': 'EUAS_LOGIN',\n",
    "        }\n",
    "\n",
    "login = session.post(\n",
    "        'https://www.kurashi.tepco.co.jp/kpf-login', data=param)\n",
    "login.encoding = login.apparent_encoding"
   ]
  },
  {
   "cell_type": "code",
   "execution_count": null,
   "metadata": {},
   "outputs": [],
   "source": [
    "#ログインページのhtmlから、フッタに書いてあるユーザー情報を取り出してみる\n",
    "html = BeautifulSoup(login.text, \"html.parser\")\n",
    "for element in html.find(\"footer\").find_all(\"input\"):\n",
    "    print(element[\"name\"], element[\"value\"])"
   ]
  }
 ],
 "metadata": {
  "kernelspec": {
   "display_name": "Python 3",
   "language": "python",
   "name": "python3"
  },
  "language_info": {
   "codemirror_mode": {
    "name": "ipython",
    "version": 3
   },
   "file_extension": ".py",
   "mimetype": "text/x-python",
   "name": "python",
   "nbconvert_exporter": "python",
   "pygments_lexer": "ipython3",
   "version": "3.6.3"
  }
 },
 "nbformat": 4,
 "nbformat_minor": 2
}
